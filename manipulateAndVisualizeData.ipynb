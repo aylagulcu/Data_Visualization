{
 "cells": [
  {
   "cell_type": "code",
   "execution_count": 1,
   "metadata": {
    "collapsed": false
   },
   "outputs": [
    {
     "name": "stderr",
     "output_type": "stream",
     "text": [
      "/home/ayla/anaconda3/lib/python3.5/site-packages/matplotlib/__init__.py:872: UserWarning: axes.color_cycle is deprecated and replaced with axes.prop_cycle; please use the latter.\n",
      "  warnings.warn(self.msg_depr % (key, alt_key))\n"
     ]
    }
   ],
   "source": [
    "import pandas as pd # pandas will be referred to as pd below\n",
    "import seaborn\n",
    "import matplotlib.pyplot as plt"
   ]
  },
  {
   "cell_type": "markdown",
   "metadata": {},
   "source": [
    "Load files: Data comes from two different csv files: one for GDP data and one for Mortality Rate."
   ]
  },
  {
   "cell_type": "markdown",
   "metadata": {},
   "source": [
    "GDP Data..."
   ]
  },
  {
   "cell_type": "code",
   "execution_count": 11,
   "metadata": {
    "collapsed": false
   },
   "outputs": [
    {
     "data": {
      "text/plain": [
       "Index(['Area', 'Year', 'GDP'], dtype='object')"
      ]
     },
     "execution_count": 11,
     "metadata": {},
     "output_type": "execute_result"
    }
   ],
   "source": [
    "data_GDP= pd.read_csv('GDP.csv')\n",
    "data_GDP.columns"
   ]
  },
  {
   "cell_type": "code",
   "execution_count": 12,
   "metadata": {
    "collapsed": false
   },
   "outputs": [
    {
     "name": "stdout",
     "output_type": "stream",
     "text": [
      "GDP original length: 51917\n"
     ]
    }
   ],
   "source": [
    "print('GDP original length: '+ str(len(data_GDP)))\n",
    "data_GDP_NoMissing= data_GDP.dropna() # Removes rows in which there are NaN values in any of the columns"
   ]
  },
  {
   "cell_type": "markdown",
   "metadata": {},
   "source": [
    "MortalityRate Data..."
   ]
  },
  {
   "cell_type": "code",
   "execution_count": 14,
   "metadata": {
    "collapsed": false
   },
   "outputs": [
    {
     "name": "stdout",
     "output_type": "stream",
     "text": [
      "Mortality rate original length: 68643\n"
     ]
    }
   ],
   "source": [
    "data_MortalityRate= pd.read_csv('MortalityRate.csv')\n",
    "print('Mortality rate original length: '+ str(len(data_MortalityRate)))\n",
    "data_MortalityRate_NoMissing= data_MortalityRate.dropna()"
   ]
  },
  {
   "cell_type": "markdown",
   "metadata": {},
   "source": [
    "Merge two data frames:\n",
    "Inner joins yield a DataFrame that contains only rows where the value being joined (acc to column names) exists in BOTH tables. \n",
    "Now, data contains no empty rows"
   ]
  },
  {
   "cell_type": "code",
   "execution_count": 16,
   "metadata": {
    "collapsed": false
   },
   "outputs": [
    {
     "name": "stdout",
     "output_type": "stream",
     "text": [
      "       Area  Year  GDP  Under_five_mortality\n",
      "0  Abkhazia  2005  NaN                   NaN\n",
      "1  Abkhazia  2006  NaN                   NaN\n",
      "2  Abkhazia  2007  NaN                   NaN\n",
      "3  Abkhazia  2008  NaN                   NaN\n",
      "4  Abkhazia  2009  NaN                   NaN\n"
     ]
    }
   ],
   "source": [
    "data = pd.merge(left= data_GDP, right= data_MortalityRate)\n",
    "print (data.head(5))"
   ]
  },
  {
   "cell_type": "code",
   "execution_count": 31,
   "metadata": {
    "collapsed": false
   },
   "outputs": [
    {
     "name": "stdout",
     "output_type": "stream",
     "text": [
      "GDP original length: 50617\n"
     ]
    }
   ],
   "source": [
    "print('GDP original length: '+ str(len(data)))"
   ]
  },
  {
   "cell_type": "code",
   "execution_count": null,
   "metadata": {
    "collapsed": true
   },
   "outputs": [],
   "source": [
    "Converts to numeric :lets python recognize these columns as numeric so that some numeric operations can be done"
   ]
  },
  {
   "cell_type": "code",
   "execution_count": 17,
   "metadata": {
    "collapsed": true
   },
   "outputs": [],
   "source": [
    "data['Year']= pd.to_numeric(data['Year'])\n",
    "data['GDP']= pd.to_numeric(data['GDP'])\n",
    "data['Under_five_mortality']= pd.to_numeric(data['Under_five_mortality'])"
   ]
  },
  {
   "cell_type": "markdown",
   "metadata": {},
   "source": [
    "Frequency distributions..."
   ]
  },
  {
   "cell_type": "markdown",
   "metadata": {},
   "source": [
    "For column: Area, Counts and Percentages"
   ]
  },
  {
   "cell_type": "code",
   "execution_count": 19,
   "metadata": {
    "collapsed": false
   },
   "outputs": [
    {
     "name": "stdout",
     "output_type": "stream",
     "text": [
      "French Polynesia    214\n",
      "West Germany          9\n",
      "Philippines         214\n",
      "Nicaragua           214\n",
      "Germany             263\n",
      "Name: Area, dtype: int64\n",
      "French Polynesia    0.004228\n",
      "West Germany        0.000178\n",
      "Philippines         0.004228\n",
      "Nicaragua           0.004228\n",
      "Germany             0.005196\n",
      "Name: Area, dtype: float64\n",
      "Number of Different Areas: 260\n",
      "Number of observations for the Area column:50617\n"
     ]
    }
   ],
   "source": [
    "countArea= data['Area'].value_counts(sort= False, dropna=False)\n",
    "print(countArea.head(5))\n",
    "perArea= data['Area'].value_counts(sort= False, dropna=False, normalize=True)\n",
    "print(perArea.head(5))\n",
    "\n",
    "print ('Number of Different Areas: '+ str(len(countArea)))\n",
    "print ('Number of observations for the Area column:'+ str(len(data['Area'])))"
   ]
  },
  {
   "cell_type": "markdown",
   "metadata": {},
   "source": [
    "For column: Year, Counts and Percentages"
   ]
  },
  {
   "cell_type": "code",
   "execution_count": 20,
   "metadata": {
    "collapsed": false
   },
   "outputs": [
    {
     "name": "stdout",
     "output_type": "stream",
     "text": [
      "Year ranges from 1751 and to 2013\n",
      "1760     23\n",
      "1792     23\n",
      "1824    230\n",
      "1856    230\n",
      "1888    230\n",
      "Name: Year, dtype: int64\n",
      "1760    0.000454\n",
      "1792    0.000454\n",
      "1824    0.004544\n",
      "1856    0.004544\n",
      "1888    0.004544\n",
      "Name: Year, dtype: float64\n",
      "Number of Different Years: 263\n"
     ]
    }
   ],
   "source": [
    "print ('Year ranges from '+ str(data['Year'].min())+' and to '+ str(data['Year'].max()) )\n",
    "countYear= data['Year'].value_counts(sort= False, dropna=False)\n",
    "print(countYear.head(5))\n",
    "perYear= data['Year'].value_counts(sort= False, dropna=False, normalize=True)\n",
    "print(perYear.head(5))\n",
    "print ('Number of Different Years: '+ str(len(countYear)))"
   ]
  },
  {
   "cell_type": "markdown",
   "metadata": {},
   "source": [
    "For column: GDP, Counts and Percentages"
   ]
  },
  {
   "cell_type": "code",
   "execution_count": 22,
   "metadata": {
    "collapsed": false
   },
   "outputs": [
    {
     "name": "stdout",
     "output_type": "stream",
     "text": [
      "NaN          2640\n",
      " 681.640        1\n",
      " 1600.860       1\n",
      " 2583.565       1\n",
      " 946.057        1\n",
      "Name: GDP, dtype: int64\n",
      "NaN          0.052156\n",
      " 681.640     0.000020\n",
      " 1600.860    0.000020\n",
      " 2583.565    0.000020\n",
      " 946.057     0.000020\n",
      "Name: GDP, dtype: float64\n",
      "Number of Different GDP values: 43810\n"
     ]
    }
   ],
   "source": [
    "countGDP= data['GDP'].value_counts(sort= False, dropna=False) # dropna=False  required, otherwise python does not show mising values\n",
    "print(countGDP.head(5))\n",
    "perGDP= data['GDP'].value_counts(sort= False, dropna=False, normalize=True)\n",
    "print(perGDP.head(5))\n",
    "print ('Number of Different GDP values: '+ str(len(countGDP)))"
   ]
  },
  {
   "cell_type": "markdown",
   "metadata": {},
   "source": [
    "For column: Under_five_mortality, Counts and Percentages"
   ]
  },
  {
   "cell_type": "code",
   "execution_count": 23,
   "metadata": {
    "collapsed": false,
    "scrolled": true
   },
   "outputs": [
    {
     "name": "stdout",
     "output_type": "stream",
     "text": [
      "NaN     17117\n",
      " 2.5        1\n",
      " 3.5        6\n",
      " 4.0       19\n",
      " 5.0       19\n",
      "Name: Under_five_mortality, dtype: int64\n",
      "NaN     0.338167\n",
      " 2.5    0.000020\n",
      " 3.5    0.000119\n",
      " 4.0    0.000375\n",
      " 5.0    0.000375\n",
      "Name: Under_five_mortality, dtype: float64\n",
      "Number of Different mortality rates: 9095\n"
     ]
    }
   ],
   "source": [
    "countMortality= data['Under_five_mortality'].value_counts(sort= False, dropna=False)\n",
    "print(countMortality.head(5))\n",
    "perMortality= data['Under_five_mortality'].value_counts(sort= False, dropna=False, normalize=True)\n",
    "print(perMortality.head(5))\n",
    "print ('Number of Different mortality rates: '+ str(len(countMortality)))"
   ]
  },
  {
   "cell_type": "markdown",
   "metadata": {},
   "source": [
    "Manipulate data:\n",
    "Remove rows where either GDP or Under_five_mortality column is NaN: Should return the same dataframe, because above merge operation has already done this!"
   ]
  },
  {
   "cell_type": "code",
   "execution_count": 34,
   "metadata": {
    "collapsed": false
   },
   "outputs": [
    {
     "name": "stdout",
     "output_type": "stream",
     "text": [
      "Lenghth of the new dataframe: 33447\n"
     ]
    }
   ],
   "source": [
    "data= data.dropna(subset =['GDP','Under_five_mortality'], how='any')\n",
    "data= data.reset_index(drop=True) # not to save old index as a column\n",
    "print('Lenghth of the new dataframe: '+str(len(data)))"
   ]
  },
  {
   "cell_type": "markdown",
   "metadata": {},
   "source": [
    "# Create GDP groups, describe and visualize:"
   ]
  },
  {
   "cell_type": "code",
   "execution_count": 73,
   "metadata": {
    "collapsed": false
   },
   "outputs": [
    {
     "name": "stdout",
     "output_type": "stream",
     "text": [
      "GDP ranges from 281.909 and to 111654.831\n"
     ]
    },
    {
     "data": {
      "text/plain": [
       "count     33447.000000\n",
       "mean       3534.398243\n",
       "std        7017.823349\n",
       "min         281.909000\n",
       "25%         657.420000\n",
       "50%        1156.182000\n",
       "75%        2936.625000\n",
       "max      111654.831000\n",
       "Name: GDP, dtype: float64"
      ]
     },
     "execution_count": 73,
     "metadata": {},
     "output_type": "execute_result"
    }
   ],
   "source": [
    "print ('GDP ranges from '+ str(data['GDP'].min())+' and to '+ str(data['GDP'].max()) )\n",
    "data['GDP'].describe()"
   ]
  },
  {
   "cell_type": "code",
   "execution_count": 112,
   "metadata": {
    "collapsed": true
   },
   "outputs": [],
   "source": [
    "data['GDPGroup']= pd.cut(data.GDP, [280,1000,2000,5000,10000,50000,120000]) # no need to sort the data frame."
   ]
  },
  {
   "cell_type": "markdown",
   "metadata": {},
   "source": [
    "Frequency distributions for the group..."
   ]
  },
  {
   "cell_type": "code",
   "execution_count": 63,
   "metadata": {
    "collapsed": false
   },
   "outputs": [
    {
     "data": {
      "text/plain": [
       "count           33447\n",
       "unique              6\n",
       "top       (280, 1000]\n",
       "freq            14885\n",
       "Name: GDPGroup, dtype: object"
      ]
     },
     "execution_count": 63,
     "metadata": {},
     "output_type": "execute_result"
    }
   ],
   "source": [
    "data['GDPGroup']= data['GDPGroup'].astype('category')\n",
    "data['GDPGroup'].describe()"
   ]
  },
  {
   "cell_type": "code",
   "execution_count": 64,
   "metadata": {
    "collapsed": false
   },
   "outputs": [
    {
     "name": "stdout",
     "output_type": "stream",
     "text": [
      "(280, 1000]        0.445032\n",
      "(1000, 2000]       0.224086\n",
      "(2000, 5000]       0.167339\n",
      "(5000, 10000]      0.080874\n",
      "(10000, 50000]     0.079917\n",
      "(50000, 120000]    0.002751\n",
      "dtype: float64\n"
     ]
    }
   ],
   "source": [
    "GDPGroupP= data['GDPGroup'].value_counts(sort= False, normalize= True)\n",
    "print(GDPGroupP)\n",
    "#print(pd.crosstab(data['GDPGroup'], data['GDP'])) # shows which GDP valus were put into which GDP group\n"
   ]
  },
  {
   "cell_type": "markdown",
   "metadata": {},
   "source": [
    "Univariate bar graph for categorical GDPGroup varaible:"
   ]
  },
  {
   "cell_type": "code",
   "execution_count": 60,
   "metadata": {
    "collapsed": false
   },
   "outputs": [
    {
     "name": "stderr",
     "output_type": "stream",
     "text": [
      "/home/ayla/anaconda3/lib/python3.5/site-packages/matplotlib/__init__.py:892: UserWarning: axes.color_cycle is deprecated and replaced with axes.prop_cycle; please use the latter.\n",
      "  warnings.warn(self.msg_depr % (key, alt_key))\n"
     ]
    },
    {
     "data": {
      "image/png": "[encoded data removed]",
      "text/plain": [
       "<matplotlib.figure.Figure at 0x7fdbaea26208>"
      ]
     },
     "metadata": {},
     "output_type": "display_data"
    }
   ],
   "source": [
    "seaborn.countplot(x= 'GDPGroup', data= data)\n",
    "plt.xlabel('GDP (per capita) categories)')\n",
    "plt.title('Counts of rows for each GDP')\n",
    "plt.show()"
   ]
  },
  {
   "cell_type": "markdown",
   "metadata": {},
   "source": [
    "Univariate histogram for quantitative GDP varaible:"
   ]
  },
  {
   "cell_type": "code",
   "execution_count": 51,
   "metadata": {
    "collapsed": false
   },
   "outputs": [
    {
     "data": {
      "text/plain": [
       "<matplotlib.text.Text at 0x7fdbaeae2d68>"
      ]
     },
     "execution_count": 51,
     "metadata": {},
     "output_type": "execute_result"
    },
    {
     "data": {
      "image/png": "[encoded data removed]",
      "text/plain": [
       "<matplotlib.figure.Figure at 0x7fdbaeabaa58>"
      ]
     },
     "metadata": {},
     "output_type": "display_data"
    }
   ],
   "source": [
    "seaborn.distplot(data['GDP'].dropna(), kde= False)\n",
    "plt.xlabel('GDP (per capita) quantitative values)')\n",
    "plt.title('Counts of rows for each GDP')"
   ]
  },
  {
   "cell_type": "markdown",
   "metadata": {},
   "source": [
    "# Create Under_five_mortality groups, describe and visualize:"
   ]
  },
  {
   "cell_type": "code",
   "execution_count": 74,
   "metadata": {
    "collapsed": false
   },
   "outputs": [
    {
     "name": "stdout",
     "output_type": "stream",
     "text": [
      "Under_five_mortality ranges from 2.0 and to 756.29\n"
     ]
    },
    {
     "data": {
      "text/plain": [
       "count    33447.000000\n",
       "mean       293.472086\n",
       "std        166.042344\n",
       "min          2.000000\n",
       "25%        125.635000\n",
       "50%        369.210000\n",
       "75%        425.105000\n",
       "max        756.290000\n",
       "Name: Under_five_mortality, dtype: float64"
      ]
     },
     "execution_count": 74,
     "metadata": {},
     "output_type": "execute_result"
    }
   ],
   "source": [
    "print ('Under_five_mortality ranges from '+ str(data['Under_five_mortality'].min())+' and to '+ str(data['Under_five_mortality'].max()) )\n",
    "data['Under_five_mortality'].describe()"
   ]
  },
  {
   "cell_type": "code",
   "execution_count": 75,
   "metadata": {
    "collapsed": false
   },
   "outputs": [],
   "source": [
    "data['MortalityGroup']= pd.cut(data.Under_five_mortality, [2,50,100,200,500,800]) "
   ]
  },
  {
   "cell_type": "code",
   "execution_count": 76,
   "metadata": {
    "collapsed": false
   },
   "outputs": [
    {
     "data": {
      "text/plain": [
       "count          33446\n",
       "unique             5\n",
       "top       (200, 500]\n",
       "freq           20951\n",
       "Name: MortalityGroup, dtype: object"
      ]
     },
     "execution_count": 76,
     "metadata": {},
     "output_type": "execute_result"
    }
   ],
   "source": [
    "data['MortalityGroup']= data['MortalityGroup'].astype('category')\n",
    "data['MortalityGroup'].describe()"
   ]
  },
  {
   "cell_type": "code",
   "execution_count": 77,
   "metadata": {
    "collapsed": true
   },
   "outputs": [],
   "source": [
    "MG= data['MortalityGroup'].value_counts(sort= False, normalize= True)"
   ]
  },
  {
   "cell_type": "code",
   "execution_count": 79,
   "metadata": {
    "collapsed": false
   },
   "outputs": [
    {
     "data": {
      "text/plain": [
       "(2, 50]       0.146231\n",
       "(50, 100]     0.073310\n",
       "(100, 200]    0.102012\n",
       "(200, 500]    0.626394\n",
       "(500, 800]    0.052023\n",
       "dtype: float64"
      ]
     },
     "execution_count": 79,
     "metadata": {},
     "output_type": "execute_result"
    }
   ],
   "source": [
    "MG"
   ]
  },
  {
   "cell_type": "code",
   "execution_count": 83,
   "metadata": {
    "collapsed": false
   },
   "outputs": [
    {
     "name": "stderr",
     "output_type": "stream",
     "text": [
      "/home/ayla/anaconda3/lib/python3.5/site-packages/matplotlib/__init__.py:892: UserWarning: axes.color_cycle is deprecated and replaced with axes.prop_cycle; please use the latter.\n",
      "  warnings.warn(self.msg_depr % (key, alt_key))\n"
     ]
    },
    {
     "data": {
      "image/png": "[encoded data removed]",
      "text/plain": [
       "<matplotlib.figure.Figure at 0x7fdbae8e0128>"
      ]
     },
     "metadata": {},
     "output_type": "display_data"
    }
   ],
   "source": [
    "seaborn.countplot(x= 'MortalityGroup', data= data)\n",
    "plt.xlabel('Mortality Rate group')\n",
    "plt.title('Counts of rows for each Rate')\n",
    "plt.show()"
   ]
  },
  {
   "cell_type": "code",
   "execution_count": 86,
   "metadata": {
    "collapsed": false
   },
   "outputs": [
    {
     "data": {
      "text/plain": [
       "<matplotlib.axes._subplots.AxesSubplot at 0x7fdbae7c7b38>"
      ]
     },
     "execution_count": 86,
     "metadata": {},
     "output_type": "execute_result"
    },
    {
     "data": {
      "image/png": "[encoded data removed]",
      "text/plain": [
       "<matplotlib.figure.Figure at 0x7fdbae731080>"
      ]
     },
     "metadata": {},
     "output_type": "display_data"
    }
   ],
   "source": [
    "seaborn.regplot(x= \"GDP\", y= \"Under_five_mortality\", fit_reg= False, data= data)"
   ]
  },
  {
   "cell_type": "markdown",
   "metadata": {},
   "source": [
    "Use data for only years after 2000"
   ]
  },
  {
   "cell_type": "code",
   "execution_count": 87,
   "metadata": {
    "collapsed": true
   },
   "outputs": [],
   "source": [
    "data2= data[data['Year']>=2000]"
   ]
  },
  {
   "cell_type": "code",
   "execution_count": 90,
   "metadata": {
    "collapsed": false
   },
   "outputs": [
    {
     "data": {
      "text/plain": [
       "<matplotlib.axes._subplots.AxesSubplot at 0x7fdbae9330b8>"
      ]
     },
     "execution_count": 90,
     "metadata": {},
     "output_type": "execute_result"
    },
    {
     "data": {
      "image/png": "[encoded data removed]",
      "text/plain": [
       "<matplotlib.figure.Figure at 0x7fdbaea197f0>"
      ]
     },
     "metadata": {},
     "output_type": "display_data"
    }
   ],
   "source": [
    "seaborn.regplot(x= \"GDP\", y= \"Under_five_mortality\", fit_reg= False, data= data2)"
   ]
  },
  {
   "cell_type": "markdown",
   "metadata": {},
   "source": [
    "Create a factor plot, but first convert the \"Under_five_mortality\" varaible to a two-level categorical variable:"
   ]
  },
  {
   "cell_type": "markdown",
   "metadata": {},
   "source": [
    "If the Under_five_mortality is above 50 (per 1000) then I will accept is as 1:"
   ]
  },
  {
   "cell_type": "code",
   "execution_count": 92,
   "metadata": {
    "collapsed": false
   },
   "outputs": [],
   "source": [
    "def MORTAL (row):\n",
    "    if row['Under_five_mortality'] < 50 :\n",
    "        return 0\n",
    "    else:\n",
    "        return 1"
   ]
  },
  {
   "cell_type": "code",
   "execution_count": 107,
   "metadata": {
    "collapsed": false
   },
   "outputs": [
    {
     "name": "stderr",
     "output_type": "stream",
     "text": [
      "/home/ayla/anaconda3/lib/python3.5/site-packages/ipykernel/__main__.py:1: SettingWithCopyWarning: \n",
      "A value is trying to be set on a copy of a slice from a DataFrame.\n",
      "Try using .loc[row_indexer,col_indexer] = value instead\n",
      "\n",
      "See the caveats in the documentation: http://pandas.pydata.org/pandas-docs/stable/indexing.html#indexing-view-versus-copy\n",
      "  if __name__ == '__main__':\n"
     ]
    }
   ],
   "source": [
    "data2['Mortal']= data2.apply(lambda row : MORTAL(row), axis= 1)"
   ]
  },
  {
   "cell_type": "code",
   "execution_count": 113,
   "metadata": {
    "collapsed": false
   },
   "outputs": [
    {
     "name": "stderr",
     "output_type": "stream",
     "text": [
      "/home/ayla/anaconda3/lib/python3.5/site-packages/matplotlib/__init__.py:892: UserWarning: axes.color_cycle is deprecated and replaced with axes.prop_cycle; please use the latter.\n",
      "  warnings.warn(self.msg_depr % (key, alt_key))\n"
     ]
    },
    {
     "data": {
      "image/png": "[encoded data removed]",
      "text/plain": [
       "<matplotlib.figure.Figure at 0x7fdba437ff28>"
      ]
     },
     "metadata": {},
     "output_type": "display_data"
    }
   ],
   "source": [
    "seaborn.factorplot(x= 'GDPGroup', y= 'Mortal', data= data2, kind= \"bar\", ci=None)\n",
    "plt.xlabel('GDP per capita group')\n",
    "plt.ylabel('Proportion mortality')\n",
    "plt.show()"
   ]
  },
  {
   "cell_type": "markdown",
   "metadata": {},
   "source": [
    "Rename the groups for better readability: "
   ]
  },
  {
   "cell_type": "code",
   "execution_count": 108,
   "metadata": {
    "collapsed": true
   },
   "outputs": [],
   "source": [
    "def GDPRangeGroup (row):\n",
    "   if row['GDP'] > 280.0 and row['GDP']<= 1000.0 :\n",
    "      return 1\n",
    "   if row['GDP'] > 1000.0 and row['GDP']<= 2000.0 :\n",
    "      return 2\n",
    "   if row['GDP'] > 2000.0 and row['GDP']<= 5000.0 :\n",
    "      return 3\n",
    "   if row['GDP'] > 5000.0 and row['GDP']<= 10000.0 :\n",
    "      return 4\n",
    "   if row['GDP'] > 10000.0 and row['GDP']<= 50000.0 :\n",
    "      return 5\n",
    "   if row['GDP'] > 50000.0 and row['GDP']<= 120000.0 :\n",
    "      return 6"
   ]
  },
  {
   "cell_type": "code",
   "execution_count": 109,
   "metadata": {
    "collapsed": false
   },
   "outputs": [
    {
     "name": "stderr",
     "output_type": "stream",
     "text": [
      "/home/ayla/anaconda3/lib/python3.5/site-packages/ipykernel/__main__.py:1: SettingWithCopyWarning: \n",
      "A value is trying to be set on a copy of a slice from a DataFrame.\n",
      "Try using .loc[row_indexer,col_indexer] = value instead\n",
      "\n",
      "See the caveats in the documentation: http://pandas.pydata.org/pandas-docs/stable/indexing.html#indexing-view-versus-copy\n",
      "  if __name__ == '__main__':\n"
     ]
    }
   ],
   "source": [
    "data2['GDPCat'] = data2.apply (lambda row: GDPRangeGroup (row),axis=1)"
   ]
  },
  {
   "cell_type": "code",
   "execution_count": 111,
   "metadata": {
    "collapsed": false
   },
   "outputs": [
    {
     "name": "stderr",
     "output_type": "stream",
     "text": [
      "/home/ayla/anaconda3/lib/python3.5/site-packages/matplotlib/__init__.py:892: UserWarning: axes.color_cycle is deprecated and replaced with axes.prop_cycle; please use the latter.\n",
      "  warnings.warn(self.msg_depr % (key, alt_key))\n"
     ]
    },
    {
     "data": {
      "image/png": "[encoded data removed]",
      "text/plain": [
       "<matplotlib.figure.Figure at 0x7fdba0181ac8>"
      ]
     },
     "metadata": {},
     "output_type": "display_data"
    }
   ],
   "source": [
    "seaborn.factorplot(x= 'GDPCat', y= 'Mortal', data= data2, kind= \"bar\", ci=None)\n",
    "plt.xlabel('GDP per capita category: 1 the most poor to 6 the richest')\n",
    "plt.ylabel('Proportion mortality')\n",
    "plt.show()"
   ]
  },
  {
   "cell_type": "code",
   "execution_count": null,
   "metadata": {
    "collapsed": true
   },
   "outputs": [],
   "source": []
  }
 ],
 "metadata": {
  "kernelspec": {
   "display_name": "Python 3",
   "language": "python",
   "name": "python3"
  },
  "language_info": {
   "codemirror_mode": {
    "name": "ipython",
    "version": 3
   },
   "file_extension": ".py",
   "mimetype": "text/x-python",
   "name": "python",
   "nbconvert_exporter": "python",
   "pygments_lexer": "ipython3",
   "version": "3.5.1"
  }
 },
 "nbformat": 4,
 "nbformat_minor": 0
}
